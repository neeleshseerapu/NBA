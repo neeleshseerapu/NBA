{
 "cells": [
  {
   "cell_type": "code",
   "execution_count": 1,
   "id": "ab11f944-d707-4b80-b48b-e0b9cd80b5ec",
   "metadata": {},
   "outputs": [],
   "source": [
    "import os\n",
    "\n",
    "# BeautifulSoup for parsing the html pages\n",
    "from bs4 import BeautifulSoup\n",
    "\n",
    "# PlayWright for using the web to access basketball reference\n",
    "# An async function runs in a different thread while the rest of your code runs.\n",
    "# This saves time especially when your async function is taking a lot of time.\n",
    "from playwright.async_api import async_playwright, TimeoutError as PlaywrightTimeout\n",
    "\n",
    "import time"
   ]
  },
  {
   "cell_type": "code",
   "execution_count": 2,
   "id": "6ecbf74d-fea3-472d-b8cc-823af100af8a",
   "metadata": {},
   "outputs": [],
   "source": [
    "# A constant which we use to store the seasons which we want to scrape.\n",
    "SEASONS = list(range(2016,2024))"
   ]
  },
  {
   "cell_type": "code",
   "execution_count": 3,
   "id": "ea7ca90e-ac2f-452c-b367-0382b1c459e7",
   "metadata": {
    "jupyter": {
     "source_hidden": true
    }
   },
   "outputs": [],
   "source": [
    "# os.path.join just makes the strings for the directories have backslashes when you join them\n",
    "# print(DATA_DIR)\n",
    "# print(STANDINGS_DIR)\n",
    "# print(SCORES_DIR)"
   ]
  },
  {
   "cell_type": "code",
   "execution_count": 4,
   "id": "bef808ba-0ea9-4746-81f3-69ccecc2e737",
   "metadata": {},
   "outputs": [],
   "source": [
    "# Creating a directory called data2\n",
    "DATA_DIR = \"data2\"\n",
    "\n",
    "# A directory for standings, stemming from data2,\n",
    "STANDINGS_DIR = os.path.join(DATA_DIR, \"standings\")\n",
    "\n",
    "# A directory for scores, stemming from data2,\n",
    "SCORES_DIR = os.path.join(DATA_DIR, \"scores\")"
   ]
  },
  {
   "cell_type": "code",
   "execution_count": 5,
   "id": "be461871-a93f-480c-912c-ca46dd3ba91d",
   "metadata": {},
   "outputs": [],
   "source": [
    "# Async function to get html\n",
    "async def get_html(url, selector, sleep=5, retries=3):\n",
    "    html = None\n",
    "    for i in range (1, retries+1):\n",
    "        time.sleep(sleep*i) # incrementally pausing code so that server doesn't ban for scraping\n",
    "\n",
    "        try:\n",
    "            # initialize the playwright instance (like opening a file).\n",
    "            async with async_playwright() as p:\n",
    "                browser = await p.firefox.launch() # await allows you to wait for the async function to finish\n",
    "                page = await browser.new_page() # creating new tab\n",
    "                await page.goto(url)\n",
    "                print(await page.title())\n",
    "                html = await page.inner_html(selector)\n",
    "        except PlaywrightTimeout: # Imported earlier as PlaywrightTimeout because 'Timeout' already exists in base python\n",
    "            print(f\"Timeout error on {url}\")\n",
    "            continue\n",
    "        else:\n",
    "            break\n",
    "    return html"
   ]
  },
  {
   "cell_type": "code",
   "execution_count": 6,
   "id": "31239a3d-9de3-40e0-af85-f8cc06b1f866",
   "metadata": {},
   "outputs": [
    {
     "name": "stdout",
     "output_type": "stream",
     "text": [
      "2015-16 NBA Schedule | Basketball-Reference.com\n"
     ]
    }
   ],
   "source": [
    "# the code for scraping the season page\n",
    "\n",
    "season = 2016\n",
    "\n",
    "url = f\"https://www.basketball-reference.com/leagues/NBA_{season}_games.html\"\n",
    "\n",
    "html = await get_html(url, \"#content .filter\") # looks for the id named content and then finds the class named filter"
   ]
  },
  {
   "cell_type": "code",
   "execution_count": 7,
   "id": "599cd497-775c-4009-bbcb-9d4f2d959f34",
   "metadata": {},
   "outputs": [
    {
     "data": {
      "text/plain": [
       "'\\n\\n<div class=\"\">\\n\\t<a href=\"/leagues/NBA_2016_games-october.html\">October</a>\\n</div><div class=\"\">\\n\\t<a href=\"/leagues/NBA_2016_games-november.html\">November</a>\\n</div><div class=\"\">\\n\\t<a href=\"/leagues/NBA_2016_games-december.html\">December</a>\\n</div><div class=\"\">\\n\\t<a href=\"/leagues/NBA_2016_games-january.html\">January</a>\\n</div><div class=\"\">\\n\\t<a href=\"/leagues/NBA_2016_games-february.html\">February</a>\\n</div><div class=\"\">\\n\\t<a href=\"/leagues/NBA_2016_games-march.html\">March</a>\\n</div><div class=\"\">\\n\\t<a href=\"/leagues/NBA_2016_games-april.html\">April</a>\\n</div><div class=\"\">\\n\\t<a href=\"/leagues/NBA_2016_games-may.html\">May</a>\\n</div><div class=\"\">\\n\\t<a href=\"/leagues/NBA_2016_games-june.html\">June</a>\\n</div>'"
      ]
     },
     "execution_count": 7,
     "metadata": {},
     "output_type": "execute_result"
    }
   ],
   "source": [
    "html"
   ]
  }
 ],
 "metadata": {
  "kernelspec": {
   "display_name": "Python 3 (ipykernel)",
   "language": "python",
   "name": "python3"
  },
  "language_info": {
   "codemirror_mode": {
    "name": "ipython",
    "version": 3
   },
   "file_extension": ".py",
   "mimetype": "text/x-python",
   "name": "python",
   "nbconvert_exporter": "python",
   "pygments_lexer": "ipython3",
   "version": "3.9.5"
  }
 },
 "nbformat": 4,
 "nbformat_minor": 5
}
