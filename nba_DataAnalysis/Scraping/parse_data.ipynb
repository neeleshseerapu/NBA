{
 "cells": [
  {
   "cell_type": "code",
   "execution_count": 1,
   "id": "9a515513-a5b2-46ab-8206-b8995cb7e7a8",
   "metadata": {},
   "outputs": [],
   "source": [
    "import os\n",
    "import pandas as pd\n",
    "from bs4 import BeautifulSoup"
   ]
  },
  {
   "cell_type": "code",
   "execution_count": 2,
   "id": "66b56dff-7213-44c8-8c6b-e1647c558afb",
   "metadata": {},
   "outputs": [],
   "source": [
    "SCORE_DIR = \"data2/scores\""
   ]
  },
  {
   "cell_type": "code",
   "execution_count": 3,
   "id": "1f2eb32a-a18e-44eb-b16e-cdff84427baa",
   "metadata": {},
   "outputs": [],
   "source": [
    "box_scores = os.listdir(SCORE_DIR)"
   ]
  },
  {
   "cell_type": "code",
   "execution_count": 4,
   "id": "6079975e-b371-4530-ba51-734f8b309231",
   "metadata": {},
   "outputs": [],
   "source": [
    "box_scores = [os.path.join(SCORE_DIR, f) for f in box_scores if f.endswith(\".html\")]"
   ]
  },
  {
   "cell_type": "code",
   "execution_count": 5,
   "id": "2c55987f-a78b-4891-8724-ec283eba1831",
   "metadata": {},
   "outputs": [],
   "source": [
    "# After using playwright to download html, async functions are no longer necessary\n",
    "def parse_html(box_score):\n",
    "    with open(box_score) as f:\n",
    "        html = f.read()\n",
    "\n",
    "    soup = BeautifulSoup(html)\n",
    "    [s.decompose() for s in soup.select(\"tr.over_header\")] # list comprehension to get rid of overheaders using decompose\n",
    "    [s.decompose() for s in soup.select(\"thead\")]\n",
    "    return soup"
   ]
  },
  {
   "cell_type": "code",
   "execution_count": 15,
   "id": "1f8a78a9-2eef-4602-a773-53925d7eeb52",
   "metadata": {},
   "outputs": [],
   "source": [
    "# Reading line scores from a game's html\n",
    "def read_line_score(soup):\n",
    "    \n",
    "    # This was a nightmare. Thankfully, you can downgrade pandas using...\n",
    "    # pip install pandas==2.0.3.\n",
    "    # Plus, you need to make sure lxml is installed\n",
    "    \n",
    "    line_score = pd.read_html(str(soup), attrs={\"id\": \"line_score\"})[0] # read_html returns a list of data_frames\n",
    "    cols = list(line_score.columns)\n",
    "    cols[0] = \"team\"\n",
    "    cols[-1] = \"total\"\n",
    "    line_score.columns = cols\n",
    "    \n",
    "    line_score = line_score[[\"team\",\"total\"]] # there are a lot of list comprehension techniques one can learn\n",
    "    return line_score"
   ]
  },
  {
   "cell_type": "code",
   "execution_count": 16,
   "id": "010124f1-b81a-4b88-85b4-d914fdd1505e",
   "metadata": {},
   "outputs": [
    {
     "data": {
      "text/html": [
       "<div>\n",
       "<style scoped>\n",
       "    .dataframe tbody tr th:only-of-type {\n",
       "        vertical-align: middle;\n",
       "    }\n",
       "\n",
       "    .dataframe tbody tr th {\n",
       "        vertical-align: top;\n",
       "    }\n",
       "\n",
       "    .dataframe thead th {\n",
       "        text-align: right;\n",
       "    }\n",
       "</style>\n",
       "<table border=\"1\" class=\"dataframe\">\n",
       "  <thead>\n",
       "    <tr style=\"text-align: right;\">\n",
       "      <th></th>\n",
       "      <th>team</th>\n",
       "      <th>total</th>\n",
       "    </tr>\n",
       "  </thead>\n",
       "  <tbody>\n",
       "    <tr>\n",
       "      <th>0</th>\n",
       "      <td>POR</td>\n",
       "      <td>110</td>\n",
       "    </tr>\n",
       "    <tr>\n",
       "      <th>1</th>\n",
       "      <td>MIA</td>\n",
       "      <td>107</td>\n",
       "    </tr>\n",
       "  </tbody>\n",
       "</table>\n",
       "</div>"
      ],
      "text/plain": [
       "  team  total\n",
       "0  POR    110\n",
       "1  MIA    107"
      ]
     },
     "execution_count": 16,
     "metadata": {},
     "output_type": "execute_result"
    }
   ],
   "source": [
    "box_score = box_scores[0]\n",
    "soup = parse_html(box_score)\n",
    "read_line_score(soup)"
   ]
  }
 ],
 "metadata": {
  "kernelspec": {
   "display_name": "Python 3 (ipykernel)",
   "language": "python",
   "name": "python3"
  },
  "language_info": {
   "codemirror_mode": {
    "name": "ipython",
    "version": 3
   },
   "file_extension": ".py",
   "mimetype": "text/x-python",
   "name": "python",
   "nbconvert_exporter": "python",
   "pygments_lexer": "ipython3",
   "version": "3.9.5"
  }
 },
 "nbformat": 4,
 "nbformat_minor": 5
}
